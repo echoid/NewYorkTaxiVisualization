{
 "cells": [
  {
   "cell_type": "markdown",
   "metadata": {},
   "source": [
    "# MAST30034 Assignment1"
   ]
  },
  {
   "cell_type": "markdown",
   "metadata": {},
   "source": [
    "# Preprocessing"
   ]
  },
  {
   "cell_type": "code",
   "execution_count": 2,
   "metadata": {},
   "outputs": [],
   "source": [
    "import pandas as pd\n",
    "import warnings\n",
    "import numpy as np\n",
    "warnings.filterwarnings(\"ignore\")"
   ]
  },
  {
   "cell_type": "code",
   "execution_count": 3,
   "metadata": {},
   "outputs": [],
   "source": [
    "# Read the inital Data set\n",
    "yellow_09 = pd.read_csv(\"E:/Uni/MAST30034/Data/yellow_tripdata_2018-09.csv\")"
   ]
  },
  {
   "cell_type": "code",
   "execution_count": 4,
   "metadata": {},
   "outputs": [
    {
     "data": {
      "text/html": [
       "<div>\n",
       "<style scoped>\n",
       "    .dataframe tbody tr th:only-of-type {\n",
       "        vertical-align: middle;\n",
       "    }\n",
       "\n",
       "    .dataframe tbody tr th {\n",
       "        vertical-align: top;\n",
       "    }\n",
       "\n",
       "    .dataframe thead th {\n",
       "        text-align: right;\n",
       "    }\n",
       "</style>\n",
       "<table border=\"1\" class=\"dataframe\">\n",
       "  <thead>\n",
       "    <tr style=\"text-align: right;\">\n",
       "      <th></th>\n",
       "      <th>VendorID</th>\n",
       "      <th>tpep_pickup_datetime</th>\n",
       "      <th>tpep_dropoff_datetime</th>\n",
       "      <th>passenger_count</th>\n",
       "      <th>trip_distance</th>\n",
       "      <th>RatecodeID</th>\n",
       "      <th>store_and_fwd_flag</th>\n",
       "      <th>PULocationID</th>\n",
       "      <th>DOLocationID</th>\n",
       "      <th>payment_type</th>\n",
       "      <th>fare_amount</th>\n",
       "      <th>extra</th>\n",
       "      <th>mta_tax</th>\n",
       "      <th>tip_amount</th>\n",
       "      <th>tolls_amount</th>\n",
       "      <th>improvement_surcharge</th>\n",
       "      <th>total_amount</th>\n",
       "    </tr>\n",
       "  </thead>\n",
       "  <tbody>\n",
       "    <tr>\n",
       "      <th>0</th>\n",
       "      <td>1</td>\n",
       "      <td>2018-09-01 00:01:35</td>\n",
       "      <td>2018-09-01 00:09:48</td>\n",
       "      <td>2</td>\n",
       "      <td>1.50</td>\n",
       "      <td>1</td>\n",
       "      <td>N</td>\n",
       "      <td>161</td>\n",
       "      <td>107</td>\n",
       "      <td>1</td>\n",
       "      <td>7.5</td>\n",
       "      <td>0.5</td>\n",
       "      <td>0.5</td>\n",
       "      <td>0.00</td>\n",
       "      <td>0.0</td>\n",
       "      <td>0.3</td>\n",
       "      <td>8.80</td>\n",
       "    </tr>\n",
       "    <tr>\n",
       "      <th>1</th>\n",
       "      <td>1</td>\n",
       "      <td>2018-09-01 00:22:22</td>\n",
       "      <td>2018-09-01 00:28:55</td>\n",
       "      <td>1</td>\n",
       "      <td>1.00</td>\n",
       "      <td>1</td>\n",
       "      <td>N</td>\n",
       "      <td>233</td>\n",
       "      <td>100</td>\n",
       "      <td>1</td>\n",
       "      <td>6.5</td>\n",
       "      <td>0.5</td>\n",
       "      <td>0.5</td>\n",
       "      <td>2.00</td>\n",
       "      <td>0.0</td>\n",
       "      <td>0.3</td>\n",
       "      <td>9.80</td>\n",
       "    </tr>\n",
       "    <tr>\n",
       "      <th>2</th>\n",
       "      <td>1</td>\n",
       "      <td>2018-09-01 00:38:10</td>\n",
       "      <td>2018-09-01 00:44:42</td>\n",
       "      <td>1</td>\n",
       "      <td>1.00</td>\n",
       "      <td>1</td>\n",
       "      <td>N</td>\n",
       "      <td>164</td>\n",
       "      <td>163</td>\n",
       "      <td>2</td>\n",
       "      <td>6.5</td>\n",
       "      <td>0.5</td>\n",
       "      <td>0.5</td>\n",
       "      <td>0.00</td>\n",
       "      <td>0.0</td>\n",
       "      <td>0.3</td>\n",
       "      <td>7.80</td>\n",
       "    </tr>\n",
       "    <tr>\n",
       "      <th>3</th>\n",
       "      <td>1</td>\n",
       "      <td>2018-09-01 00:46:36</td>\n",
       "      <td>2018-09-01 00:54:49</td>\n",
       "      <td>1</td>\n",
       "      <td>1.90</td>\n",
       "      <td>1</td>\n",
       "      <td>N</td>\n",
       "      <td>48</td>\n",
       "      <td>140</td>\n",
       "      <td>1</td>\n",
       "      <td>8.5</td>\n",
       "      <td>0.5</td>\n",
       "      <td>0.5</td>\n",
       "      <td>1.00</td>\n",
       "      <td>0.0</td>\n",
       "      <td>0.3</td>\n",
       "      <td>10.80</td>\n",
       "    </tr>\n",
       "    <tr>\n",
       "      <th>4</th>\n",
       "      <td>1</td>\n",
       "      <td>2018-09-01 00:59:46</td>\n",
       "      <td>2018-09-01 01:02:41</td>\n",
       "      <td>1</td>\n",
       "      <td>0.60</td>\n",
       "      <td>1</td>\n",
       "      <td>N</td>\n",
       "      <td>262</td>\n",
       "      <td>263</td>\n",
       "      <td>1</td>\n",
       "      <td>4.5</td>\n",
       "      <td>0.5</td>\n",
       "      <td>0.5</td>\n",
       "      <td>1.15</td>\n",
       "      <td>0.0</td>\n",
       "      <td>0.3</td>\n",
       "      <td>6.95</td>\n",
       "    </tr>\n",
       "    <tr>\n",
       "      <th>...</th>\n",
       "      <td>...</td>\n",
       "      <td>...</td>\n",
       "      <td>...</td>\n",
       "      <td>...</td>\n",
       "      <td>...</td>\n",
       "      <td>...</td>\n",
       "      <td>...</td>\n",
       "      <td>...</td>\n",
       "      <td>...</td>\n",
       "      <td>...</td>\n",
       "      <td>...</td>\n",
       "      <td>...</td>\n",
       "      <td>...</td>\n",
       "      <td>...</td>\n",
       "      <td>...</td>\n",
       "      <td>...</td>\n",
       "      <td>...</td>\n",
       "    </tr>\n",
       "    <tr>\n",
       "      <th>8040128</th>\n",
       "      <td>2</td>\n",
       "      <td>2018-09-30 23:06:44</td>\n",
       "      <td>2018-09-30 23:12:40</td>\n",
       "      <td>1</td>\n",
       "      <td>1.07</td>\n",
       "      <td>1</td>\n",
       "      <td>N</td>\n",
       "      <td>239</td>\n",
       "      <td>142</td>\n",
       "      <td>2</td>\n",
       "      <td>6.5</td>\n",
       "      <td>0.5</td>\n",
       "      <td>0.5</td>\n",
       "      <td>0.00</td>\n",
       "      <td>0.0</td>\n",
       "      <td>0.3</td>\n",
       "      <td>7.80</td>\n",
       "    </tr>\n",
       "    <tr>\n",
       "      <th>8040129</th>\n",
       "      <td>2</td>\n",
       "      <td>2018-09-30 23:15:34</td>\n",
       "      <td>2018-09-30 23:18:31</td>\n",
       "      <td>1</td>\n",
       "      <td>0.75</td>\n",
       "      <td>1</td>\n",
       "      <td>N</td>\n",
       "      <td>142</td>\n",
       "      <td>163</td>\n",
       "      <td>1</td>\n",
       "      <td>4.5</td>\n",
       "      <td>0.5</td>\n",
       "      <td>0.5</td>\n",
       "      <td>1.74</td>\n",
       "      <td>0.0</td>\n",
       "      <td>0.3</td>\n",
       "      <td>7.54</td>\n",
       "    </tr>\n",
       "    <tr>\n",
       "      <th>8040130</th>\n",
       "      <td>2</td>\n",
       "      <td>2018-09-30 23:32:19</td>\n",
       "      <td>2018-09-30 23:41:33</td>\n",
       "      <td>2</td>\n",
       "      <td>2.42</td>\n",
       "      <td>1</td>\n",
       "      <td>N</td>\n",
       "      <td>234</td>\n",
       "      <td>161</td>\n",
       "      <td>1</td>\n",
       "      <td>9.5</td>\n",
       "      <td>0.5</td>\n",
       "      <td>0.5</td>\n",
       "      <td>2.16</td>\n",
       "      <td>0.0</td>\n",
       "      <td>0.3</td>\n",
       "      <td>12.96</td>\n",
       "    </tr>\n",
       "    <tr>\n",
       "      <th>8040131</th>\n",
       "      <td>2</td>\n",
       "      <td>2018-09-30 23:03:59</td>\n",
       "      <td>2018-09-30 23:14:09</td>\n",
       "      <td>1</td>\n",
       "      <td>1.99</td>\n",
       "      <td>1</td>\n",
       "      <td>N</td>\n",
       "      <td>262</td>\n",
       "      <td>238</td>\n",
       "      <td>1</td>\n",
       "      <td>9.5</td>\n",
       "      <td>0.5</td>\n",
       "      <td>0.5</td>\n",
       "      <td>0.00</td>\n",
       "      <td>0.0</td>\n",
       "      <td>0.3</td>\n",
       "      <td>10.80</td>\n",
       "    </tr>\n",
       "    <tr>\n",
       "      <th>8040132</th>\n",
       "      <td>2</td>\n",
       "      <td>2018-09-30 23:53:22</td>\n",
       "      <td>2018-09-30 23:54:33</td>\n",
       "      <td>1</td>\n",
       "      <td>0.48</td>\n",
       "      <td>1</td>\n",
       "      <td>N</td>\n",
       "      <td>263</td>\n",
       "      <td>263</td>\n",
       "      <td>2</td>\n",
       "      <td>3.5</td>\n",
       "      <td>0.5</td>\n",
       "      <td>0.5</td>\n",
       "      <td>0.00</td>\n",
       "      <td>0.0</td>\n",
       "      <td>0.3</td>\n",
       "      <td>4.80</td>\n",
       "    </tr>\n",
       "  </tbody>\n",
       "</table>\n",
       "<p>8040133 rows × 17 columns</p>\n",
       "</div>"
      ],
      "text/plain": [
       "         VendorID tpep_pickup_datetime tpep_dropoff_datetime  passenger_count  \\\n",
       "0               1  2018-09-01 00:01:35   2018-09-01 00:09:48                2   \n",
       "1               1  2018-09-01 00:22:22   2018-09-01 00:28:55                1   \n",
       "2               1  2018-09-01 00:38:10   2018-09-01 00:44:42                1   \n",
       "3               1  2018-09-01 00:46:36   2018-09-01 00:54:49                1   \n",
       "4               1  2018-09-01 00:59:46   2018-09-01 01:02:41                1   \n",
       "...           ...                  ...                   ...              ...   \n",
       "8040128         2  2018-09-30 23:06:44   2018-09-30 23:12:40                1   \n",
       "8040129         2  2018-09-30 23:15:34   2018-09-30 23:18:31                1   \n",
       "8040130         2  2018-09-30 23:32:19   2018-09-30 23:41:33                2   \n",
       "8040131         2  2018-09-30 23:03:59   2018-09-30 23:14:09                1   \n",
       "8040132         2  2018-09-30 23:53:22   2018-09-30 23:54:33                1   \n",
       "\n",
       "         trip_distance  RatecodeID store_and_fwd_flag  PULocationID  \\\n",
       "0                 1.50           1                  N           161   \n",
       "1                 1.00           1                  N           233   \n",
       "2                 1.00           1                  N           164   \n",
       "3                 1.90           1                  N            48   \n",
       "4                 0.60           1                  N           262   \n",
       "...                ...         ...                ...           ...   \n",
       "8040128           1.07           1                  N           239   \n",
       "8040129           0.75           1                  N           142   \n",
       "8040130           2.42           1                  N           234   \n",
       "8040131           1.99           1                  N           262   \n",
       "8040132           0.48           1                  N           263   \n",
       "\n",
       "         DOLocationID  payment_type  fare_amount  extra  mta_tax  tip_amount  \\\n",
       "0                 107             1          7.5    0.5      0.5        0.00   \n",
       "1                 100             1          6.5    0.5      0.5        2.00   \n",
       "2                 163             2          6.5    0.5      0.5        0.00   \n",
       "3                 140             1          8.5    0.5      0.5        1.00   \n",
       "4                 263             1          4.5    0.5      0.5        1.15   \n",
       "...               ...           ...          ...    ...      ...         ...   \n",
       "8040128           142             2          6.5    0.5      0.5        0.00   \n",
       "8040129           163             1          4.5    0.5      0.5        1.74   \n",
       "8040130           161             1          9.5    0.5      0.5        2.16   \n",
       "8040131           238             1          9.5    0.5      0.5        0.00   \n",
       "8040132           263             2          3.5    0.5      0.5        0.00   \n",
       "\n",
       "         tolls_amount  improvement_surcharge  total_amount  \n",
       "0                 0.0                    0.3          8.80  \n",
       "1                 0.0                    0.3          9.80  \n",
       "2                 0.0                    0.3          7.80  \n",
       "3                 0.0                    0.3         10.80  \n",
       "4                 0.0                    0.3          6.95  \n",
       "...               ...                    ...           ...  \n",
       "8040128           0.0                    0.3          7.80  \n",
       "8040129           0.0                    0.3          7.54  \n",
       "8040130           0.0                    0.3         12.96  \n",
       "8040131           0.0                    0.3         10.80  \n",
       "8040132           0.0                    0.3          4.80  \n",
       "\n",
       "[8040133 rows x 17 columns]"
      ]
     },
     "execution_count": 4,
     "metadata": {},
     "output_type": "execute_result"
    }
   ],
   "source": [
    "# Overview the dateset\n",
    "yellow_09"
   ]
  },
  {
   "cell_type": "markdown",
   "metadata": {},
   "source": [
    "## Missing Value Detect"
   ]
  },
  {
   "cell_type": "code",
   "execution_count": 5,
   "metadata": {},
   "outputs": [
    {
     "data": {
      "text/plain": [
       "VendorID                 0\n",
       "tpep_pickup_datetime     0\n",
       "tpep_dropoff_datetime    0\n",
       "passenger_count          0\n",
       "trip_distance            0\n",
       "RatecodeID               0\n",
       "store_and_fwd_flag       0\n",
       "PULocationID             0\n",
       "DOLocationID             0\n",
       "payment_type             0\n",
       "fare_amount              0\n",
       "extra                    0\n",
       "mta_tax                  0\n",
       "tip_amount               0\n",
       "tolls_amount             0\n",
       "improvement_surcharge    0\n",
       "total_amount             0\n",
       "dtype: int64"
      ]
     },
     "execution_count": 5,
     "metadata": {},
     "output_type": "execute_result"
    }
   ],
   "source": [
    "# Check if there are missing values\n",
    "yellow_09.isnull().sum()"
   ]
  },
  {
   "cell_type": "markdown",
   "metadata": {},
   "source": [
    "## Noisy Data Remove"
   ]
  },
  {
   "cell_type": "code",
   "execution_count": 6,
   "metadata": {},
   "outputs": [],
   "source": [
    "# remove invaild data\n",
    "\n",
    "# restricted data in the vaild time [Sep 2018]\n",
    "cleaned_yellow_09 = yellow_09[(yellow_09[\"tpep_pickup_datetime\"]<\"2018-09-30 23:59:59\") & (yellow_09[\"tpep_pickup_datetime\"]>\"2018-09-01 00:00:00\")]\n",
    "cleaned_yellow_09 = cleaned_yellow_09[(cleaned_yellow_09[\"tpep_dropoff_datetime\"]<\"2018-09-30 23:59:59\") & (cleaned_yellow_09[\"tpep_dropoff_datetime\"]>\"2018-09-01 00:00:00\")]\n",
    "\n",
    "# remove passager == 0 ,\n",
    "cleaned_yellow_09 = cleaned_yellow_09[(cleaned_yellow_09[\"passenger_count\"] != 0)]\n",
    "\n",
    "# trip_distance ==0, \n",
    "cleaned_yellow_09 = cleaned_yellow_09[cleaned_yellow_09[\"trip_distance\"] != 0]\n",
    "                                      \n",
    "# We only focus on the data with tips recoreded \n",
    "cleaned_yellow_09 = cleaned_yellow_09[(cleaned_yellow_09[\"payment_type\"] == 1)]\n",
    "          \n",
    "# total payment > 0\n",
    "cleaned_yellow_09 = cleaned_yellow_09[(cleaned_yellow_09[\"fare_amount\"] >= 2.5)]     \n",
    "    \n",
    "# total payment > 0\n",
    "cleaned_yellow_09 = cleaned_yellow_09[(cleaned_yellow_09[\"total_amount\"] >= 2.5)]    \n",
    "        "
   ]
  },
  {
   "cell_type": "markdown",
   "metadata": {},
   "source": [
    "## Outliers Remove"
   ]
  },
  {
   "cell_type": "code",
   "execution_count": 14,
   "metadata": {
    "scrolled": true
   },
   "outputs": [
    {
     "data": {
      "image/png": "[encoded data removed]",
      "text/plain": [
       "<Figure size 432x288 with 1 Axes>"
      ]
     },
     "metadata": {
      "needs_background": "light"
     },
     "output_type": "display_data"
    }
   ],
   "source": [
    "# initial view of fees\n",
    "amount_boxplot = cleaned_yellow_09.boxplot(column=amount, fontsize=10,figsize=(6,4))\n",
    "fig = amount_boxplot.get_figure()\n",
    "\n",
    "fig.suptitle('Box Plot of Fees ')\n",
    "fig.show()\n",
    "fig.savefig(\"initial view of tips amount.png\")"
   ]
  },
  {
   "cell_type": "code",
   "execution_count": 19,
   "metadata": {},
   "outputs": [
    {
     "data": {
      "image/png": "[encoded data removed]",
      "text/plain": [
       "<Figure size 432x288 with 1 Axes>"
      ]
     },
     "metadata": {
      "needs_background": "light"
     },
     "output_type": "display_data"
    }
   ],
   "source": [
    "# initial view of fees\n",
    "amount_boxplot = cleaned_yellow_09.boxplot(column=\"trip_distance\", fontsize=10,figsize=(6,4))\n",
    "fig = amount_boxplot.get_figure()\n",
    "\n",
    "fig.suptitle('Box Plot of Trip distance ')\n",
    "fig.show()\n",
    "fig.savefig(\"initial view of distance amount.png\")"
   ]
  },
  {
   "cell_type": "code",
   "execution_count": 28,
   "metadata": {},
   "outputs": [
    {
     "data": {
      "text/plain": [
       "85.0"
      ]
     },
     "execution_count": 28,
     "metadata": {},
     "output_type": "execute_result"
    }
   ],
   "source": []
  },
  {
   "cell_type": "code",
   "execution_count": 29,
   "metadata": {},
   "outputs": [],
   "source": [
    "# clean tips outliers\n",
    "amount = [\"tip_amount\",\"fare_amount\",\"total_amount\"]\n",
    "#https://stackoverflow.com/questions/35827863/remove-outliers-in-pandas-dataframe-using-percentiles\n",
    "Q1 = cleaned_yellow_09[amount].quantile(0.25)\n",
    "Q3 = cleaned_yellow_09[amount].quantile(0.75)\n",
    "IQR = Q3 - Q1\n",
    "\n",
    "cleaned= cleaned_yellow_09[~((cleaned_yellow_09[amount]< (Q1 - 3 * IQR)) |(cleaned_yellow_09[amount]> (Q3 + 3 * IQR))).any(axis=1)]"
   ]
  },
  {
   "cell_type": "code",
   "execution_count": 24,
   "metadata": {},
   "outputs": [
    {
     "data": {
      "image/png": "[encoded data removed]",
      "text/plain": [
       "<Figure size 432x288 with 1 Axes>"
      ]
     },
     "metadata": {
      "needs_background": "light"
     },
     "output_type": "display_data"
    }
   ],
   "source": [
    "# show the tips after remove outliers\n",
    "amount_boxplot = cleaned.boxplot(column=amount, fontsize=10,figsize=(6,4))\n",
    "fig = amount_boxplot.get_figure()\n",
    "\n",
    "fig.suptitle('Box Plot of Fees (outlier removed)')\n",
    "fig.show()\n",
    "fig.savefig(\"tips amount after cleaning ourliers.png\")"
   ]
  },
  {
   "cell_type": "markdown",
   "metadata": {},
   "source": [
    "## Feature Engineering "
   ]
  },
  {
   "cell_type": "code",
   "execution_count": 31,
   "metadata": {},
   "outputs": [],
   "source": [
    "# Creat a new column which only contains the pick up date\n",
    "# Creat a new column which only contrains the pick up time\n",
    "cleaned['date'] = cleaned['tpep_pickup_datetime'].str[5:10]\n",
    "cleaned[\"Time_h\"] = cleaned['tpep_pickup_datetime'].str[10:13]+\":00\""
   ]
  },
  {
   "cell_type": "code",
   "execution_count": 32,
   "metadata": {},
   "outputs": [],
   "source": [
    "# save to feather \n",
    "cleaned.reset_index().to_feather('18_cleaned_yellow_09.feather')"
   ]
  },
  {
   "cell_type": "code",
   "execution_count": null,
   "metadata": {},
   "outputs": [],
   "source": []
  }
 ],
 "metadata": {
  "kernelspec": {
   "display_name": "Python 3",
   "language": "python",
   "name": "python3"
  },
  "language_info": {
   "codemirror_mode": {
    "name": "ipython",
    "version": 3
   },
   "file_extension": ".py",
   "mimetype": "text/x-python",
   "name": "python",
   "nbconvert_exporter": "python",
   "pygments_lexer": "ipython3",
   "version": "3.7.7"
  }
 },
 "nbformat": 4,
 "nbformat_minor": 4
}
